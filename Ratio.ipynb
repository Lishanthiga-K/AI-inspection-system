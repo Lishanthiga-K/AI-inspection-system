{
 "cells": [
  {
   "cell_type": "code",
   "execution_count": 1,
   "id": "73549a7d",
   "metadata": {},
   "outputs": [],
   "source": [
    "import pandas as pd"
   ]
  },
  {
   "cell_type": "code",
   "execution_count": 5,
   "id": "7563217e",
   "metadata": {
    "scrolled": true
   },
   "outputs": [
    {
     "name": "stdout",
     "output_type": "stream",
     "text": [
      "Note: you may need to restart the kernel to use updated packages.Requirement already satisfied: pdfplumber in c:\\users\\hp\\anaconda3\\lib\\site-packages (0.11.4)\n",
      "Requirement already satisfied: pdfminer.six==20231228 in c:\\users\\hp\\anaconda3\\lib\\site-packages (from pdfplumber) (20231228)\n",
      "Requirement already satisfied: Pillow>=9.1 in c:\\users\\hp\\anaconda3\\lib\\site-packages (from pdfplumber) (9.4.0)\n",
      "Requirement already satisfied: pypdfium2>=4.18.0 in c:\\users\\hp\\anaconda3\\lib\\site-packages (from pdfplumber) (4.30.0)\n",
      "Requirement already satisfied: charset-normalizer>=2.0.0 in c:\\users\\hp\\anaconda3\\lib\\site-packages (from pdfminer.six==20231228->pdfplumber) (2.0.4)\n",
      "Requirement already satisfied: cryptography>=36.0.0 in c:\\users\\hp\\anaconda3\\lib\\site-packages (from pdfminer.six==20231228->pdfplumber) (39.0.1)\n",
      "Requirement already satisfied: cffi>=1.12 in c:\\users\\hp\\anaconda3\\lib\\site-packages (from cryptography>=36.0.0->pdfminer.six==20231228->pdfplumber) (1.15.1)\n",
      "Requirement already satisfied: pycparser in c:\\users\\hp\\anaconda3\\lib\\site-packages (from cffi>=1.12->cryptography>=36.0.0->pdfminer.six==20231228->pdfplumber) (2.21)\n",
      "\n"
     ]
    },
    {
     "name": "stderr",
     "output_type": "stream",
     "text": [
      "WARNING: Ignoring invalid distribution -pencv-python (c:\\users\\hp\\anaconda3\\lib\\site-packages)\n",
      "WARNING: Ignoring invalid distribution -pencv-python (c:\\users\\hp\\anaconda3\\lib\\site-packages)\n",
      "WARNING: Ignoring invalid distribution -pencv-python (c:\\users\\hp\\anaconda3\\lib\\site-packages)\n"
     ]
    }
   ],
   "source": [
    "pip install pdfplumber"
   ]
  },
  {
   "cell_type": "code",
   "execution_count": 8,
   "id": "972e03ec",
   "metadata": {},
   "outputs": [
    {
     "name": "stdout",
     "output_type": "stream",
     "text": [
      "First Year: 180 students\n",
      "Second Year: 120 students\n",
      "Third Year: 120 students\n",
      "Fourth Year: 120 students\n",
      "Total Number of Students in the Department: 540 students\n"
     ]
    }
   ],
   "source": [
    "import pdfplumber\n",
    "\n",
    "# Function to extract student numbers from the PDF and display total for each year\n",
    "def extract_student_numbers_from_pdf(pdf_path):\n",
    "    with pdfplumber.open(pdf_path) as pdf:\n",
    "        text = ''\n",
    "        # Loop through all pages to extract text\n",
    "        for page in pdf.pages:\n",
    "            text += page.extract_text()\n",
    "\n",
    "        # Initialize student numbers for each year\n",
    "        first_year_students = second_year_students = third_year_students = fourth_year_students = 0\n",
    "\n",
    "        # Extract the number of students for each year from the text\n",
    "        if 'First Year' in text:\n",
    "            first_year_students = int(text.split('First Year:')[1].split('students')[0].strip())\n",
    "        if 'Second Year' in text:\n",
    "            second_year_students = int(text.split('Second Year:')[1].split('students')[0].strip())\n",
    "        if 'Third Year' in text:\n",
    "            third_year_students = int(text.split('Third Year:')[1].split('students')[0].strip())\n",
    "        if 'Fourth Year' in text:\n",
    "            fourth_year_students = int(text.split('Fourth Year:')[1].split('students')[0].strip())\n",
    "\n",
    "        # Calculate total number of students\n",
    "        total_students = first_year_students + second_year_students + third_year_students + fourth_year_students\n",
    "\n",
    "        # Print the number of students in each year and the total\n",
    "        print(f\"First Year: {first_year_students} students\")\n",
    "        print(f\"Second Year: {second_year_students} students\")\n",
    "        print(f\"Third Year: {third_year_students} students\")\n",
    "        print(f\"Fourth Year: {fourth_year_students} students\")\n",
    "        print(f\"Total Number of Students in the Department: {total_students} students\")\n",
    "\n",
    "# Path to the uploaded PDF\n",
    "pdf_path = 'Student.pdf'\n",
    "\n",
    "# Extract and display student numbers for each year and total\n",
    "extract_student_numbers_from_pdf(pdf_path)\n"
   ]
  },
  {
   "cell_type": "code",
   "execution_count": 10,
   "id": "8329d488",
   "metadata": {},
   "outputs": [
    {
     "name": "stdout",
     "output_type": "stream",
     "text": [
      "Total Number of Students: 540\n",
      "Total Number of Faculty: 32\n",
      "Faculty Required as per AICTE norms: 36\n",
      "The faculty count is insufficient as per AICTE norms.\n"
     ]
    }
   ],
   "source": [
    "import pdfplumber\n",
    "import pandas as pd\n",
    "\n",
    "# Function to extract student numbers from the PDF\n",
    "def extract_total_students_from_pdf(pdf_path):\n",
    "    with pdfplumber.open(pdf_path) as pdf:\n",
    "        text = ''\n",
    "        # Loop through all pages to extract text\n",
    "        for page in pdf.pages:\n",
    "            text += page.extract_text()\n",
    "\n",
    "        # Initialize student numbers for each year\n",
    "        first_year_students = second_year_students = third_year_students = fourth_year_students = 0\n",
    "\n",
    "        # Extract the number of students for each year from the text\n",
    "        if 'First Year' in text:\n",
    "            first_year_students = int(text.split('First Year:')[1].split('students')[0].strip())\n",
    "        if 'Second Year' in text:\n",
    "            second_year_students = int(text.split('Second Year:')[1].split('students')[0].strip())\n",
    "        if 'Third Year' in text:\n",
    "            third_year_students = int(text.split('Third Year:')[1].split('students')[0].strip())\n",
    "        if 'Fourth Year' in text:\n",
    "            fourth_year_students = int(text.split('Fourth Year:')[1].split('students')[0].strip())\n",
    "\n",
    "        # Calculate total number of students\n",
    "        total_students = first_year_students + second_year_students + third_year_students + fourth_year_students\n",
    "\n",
    "        return total_students\n",
    "\n",
    "# Function to calculate the required faculty based on AICTE norms\n",
    "def calculate_required_faculty(total_students, student_per_faculty=15):\n",
    "    return total_students // student_per_faculty\n",
    "\n",
    "# Function to verify the student-faculty ratio\n",
    "def verify_faculty_ratio(faculty_data, student_data_pdf):\n",
    "    # Load faculty data from CSV\n",
    "    faculty_df = pd.read_csv(faculty_data)\n",
    "\n",
    "    # Extract the total number of students from the PDF\n",
    "    total_students = extract_total_students_from_pdf(student_data_pdf)\n",
    "\n",
    "    # Calculate the required number of faculty as per AICTE norms (1 faculty per 15 students)\n",
    "    required_faculty = calculate_required_faculty(total_students)\n",
    "\n",
    "    total_faculty = len(faculty_df)\n",
    "\n",
    "    print(f\"Total Number of Students: {total_students}\")\n",
    "    print(f\"Total Number of Faculty: {total_faculty}\")\n",
    "    print(f\"Faculty Required as per AICTE norms: {required_faculty}\")\n",
    "\n",
    "    if total_faculty >= required_faculty:\n",
    "        return \"The faculty count is sufficient as per AICTE norms.\"\n",
    "    else:\n",
    "        return \"The faculty count is insufficient as per AICTE norms.\"\n",
    "\n",
    "\n",
    "faculty_profile = 'Faculty_profile.csv'    \n",
    "student_data_pdf = 'Student.pdf'  \n",
    "\n",
    "\n",
    "result = verify_faculty_ratio(faculty_profile, student_data_pdf)\n",
    "print(result)"
   ]
  },
  {
   "cell_type": "code",
   "execution_count": null,
   "id": "52afa885",
   "metadata": {},
   "outputs": [],
   "source": []
  }
 ],
 "metadata": {
  "kernelspec": {
   "display_name": "Python 3 (ipykernel)",
   "language": "python",
   "name": "python3"
  },
  "language_info": {
   "codemirror_mode": {
    "name": "ipython",
    "version": 3
   },
   "file_extension": ".py",
   "mimetype": "text/x-python",
   "name": "python",
   "nbconvert_exporter": "python",
   "pygments_lexer": "ipython3",
   "version": "3.10.9"
  }
 },
 "nbformat": 4,
 "nbformat_minor": 5
}
