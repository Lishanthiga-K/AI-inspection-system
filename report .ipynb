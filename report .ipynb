{
 "cells": [
  {
   "cell_type": "code",
   "execution_count": 1,
   "id": "ca215dc6",
   "metadata": {},
   "outputs": [
    {
     "name": "stderr",
     "output_type": "stream",
     "text": [
      "[nltk_data] Downloading package punkt to\n",
      "[nltk_data]     C:\\Users\\HP\\AppData\\Roaming\\nltk_data...\n",
      "[nltk_data]   Unzipping tokenizers\\punkt.zip.\n",
      "[nltk_data] Downloading package stopwords to\n",
      "[nltk_data]     C:\\Users\\HP\\AppData\\Roaming\\nltk_data...\n"
     ]
    },
    {
     "name": "stdout",
     "output_type": "stream",
     "text": [
      "Similarity Ratio between reports: 64.63%\n",
      "\n",
      "Strengths in the current report:\n",
      "however, improved, lab, remains, show, signs, still, wear\n",
      "\n",
      "Weaknesses in the current report:\n",
      "classrooms, equipment, faculty, infrastructure, institution, labs, lacked, outdated, programs, strong, training\n"
     ]
    },
    {
     "name": "stderr",
     "output_type": "stream",
     "text": [
      "[nltk_data]   Unzipping corpora\\stopwords.zip.\n"
     ]
    }
   ],
   "source": [
    "import nltk\n",
    "from nltk.corpus import stopwords\n",
    "from nltk.tokenize import word_tokenize\n",
    "from sklearn.feature_extraction.text import TfidfVectorizer\n",
    "from difflib import SequenceMatcher\n",
    "\n",
    "# Ensure the necessary NLTK data is downloaded\n",
    "nltk.download('punkt')\n",
    "nltk.download('stopwords')\n",
    "\n",
    "# Function to tokenize and clean text\n",
    "def preprocess_text(text):\n",
    "    stop_words = set(stopwords.words('english'))\n",
    "    word_tokens = word_tokenize(text.lower())\n",
    "    filtered_words = [w for w in word_tokens if w.isalpha() and w not in stop_words]\n",
    "    return \" \".join(filtered_words)\n",
    "\n",
    "# Function to compare two reports\n",
    "def compare_reports(past_report, current_report):\n",
    "    # Preprocess the reports\n",
    "    past_clean = preprocess_text(past_report)\n",
    "    current_clean = preprocess_text(current_report)\n",
    "    \n",
    "    # Use SequenceMatcher to find the similarity ratio\n",
    "    similarity_ratio = SequenceMatcher(None, past_clean, current_clean).ratio()\n",
    "    \n",
    "    # Vectorize the texts using TF-IDF\n",
    "    vectorizer = TfidfVectorizer()\n",
    "    vectors = vectorizer.fit_transform([past_clean, current_clean])\n",
    "    \n",
    "    # Extract key phrases\n",
    "    feature_names = vectorizer.get_feature_names_out()\n",
    "    dense = vectors.todense()\n",
    "    denselist = dense.tolist()\n",
    "    \n",
    "    # Calculate changes\n",
    "    strength_keywords = []\n",
    "    weakness_keywords = []\n",
    "    for word in feature_names:\n",
    "        past_value = denselist[0][feature_names.tolist().index(word)]\n",
    "        current_value = denselist[1][feature_names.tolist().index(word)]\n",
    "        if current_value > past_value:\n",
    "            strength_keywords.append(word)\n",
    "        elif current_value < past_value:\n",
    "            weakness_keywords.append(word)\n",
    "    \n",
    "    # Output the comparison\n",
    "    output = f\"Similarity Ratio between reports: {similarity_ratio*100:.2f}%\\n\"\n",
    "    output += \"\\nStrengths in the current report:\\n\"\n",
    "    output += \", \".join(strength_keywords) if strength_keywords else \"No significant improvements.\"\n",
    "    \n",
    "    output += \"\\n\\nWeaknesses in the current report:\\n\"\n",
    "    output += \", \".join(weakness_keywords) if weakness_keywords else \"No significant weaknesses.\"\n",
    "    \n",
    "    return output\n",
    "\n",
    "# Example input\n",
    "past_report = \"\"\"\n",
    "The institution had strong infrastructure but lacked in faculty training programs. The classrooms were well-maintained, but the equipment in labs was outdated.\n",
    "\"\"\"\n",
    "current_report = \"\"\"\n",
    "The infrastructure remains strong, and the faculty training programs have improved. However, the classrooms now show signs of wear, and the lab equipment is still outdated.\n",
    "\"\"\"\n",
    "\n",
    "# Compare the reports\n",
    "result = compare_reports(past_report, current_report)\n",
    "print(result)\n"
   ]
  },
  {
   "cell_type": "code",
   "execution_count": null,
   "id": "edf4a4ab",
   "metadata": {},
   "outputs": [],
   "source": []
  }
 ],
 "metadata": {
  "kernelspec": {
   "display_name": "Python 3 (ipykernel)",
   "language": "python",
   "name": "python3"
  },
  "language_info": {
   "codemirror_mode": {
    "name": "ipython",
    "version": 3
   },
   "file_extension": ".py",
   "mimetype": "text/x-python",
   "name": "python",
   "nbconvert_exporter": "python",
   "pygments_lexer": "ipython3",
   "version": "3.10.9"
  }
 },
 "nbformat": 4,
 "nbformat_minor": 5
}
